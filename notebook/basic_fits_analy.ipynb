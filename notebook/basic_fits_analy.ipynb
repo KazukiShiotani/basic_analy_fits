{
 "cells": [
  {
   "cell_type": "markdown",
   "metadata": {},
   "source": [
    "# このnotebookは？\n",
    "頑張ってfitsファイルを理解しようとするためのnotebook"
   ]
  },
  {
   "cell_type": "markdown",
   "metadata": {},
   "source": [
    "とりあえず必要なものをimport する"
   ]
  },
  {
   "cell_type": "code",
   "execution_count": 71,
   "metadata": {
    "collapsed": true
   },
   "outputs": [],
   "source": [
    "#file = \"./n2018_12CO_sample.fits\"#fitsファイルのpath\n",
    "file = \"./test2.fits\""
   ]
  },
  {
   "cell_type": "code",
   "execution_count": 72,
   "metadata": {
    "collapsed": true
   },
   "outputs": [],
   "source": [
    "import astropy.io.fits as fits"
   ]
  },
  {
   "cell_type": "code",
   "execution_count": 73,
   "metadata": {
    "collapsed": false
   },
   "outputs": [
    {
     "name": "stderr",
     "output_type": "stream",
     "text": [
      "WARNING: VerifyWarning: Invalid 'BLANK' keyword in header.  The 'BLANK' keyword is only applicable to integer data, and will be ignored in this HDU. [astropy.io.fits.hdu.image]\n"
     ]
    }
   ],
   "source": [
    "hdu = fits.open(file)\n",
    "data1 = hdu[0].data\n",
    "#data2= hdu[1].data\n",
    "header1 = hdu[0].header\n",
    "#header2 = hdu[1].header\n",
    "f.close()"
   ]
  },
  {
   "cell_type": "code",
   "execution_count": 74,
   "metadata": {
    "collapsed": false
   },
   "outputs": [
    {
     "data": {
      "text/plain": [
       "SIMPLE  =                    T  /                                               \n",
       "BITPIX  =                  -32  /                                               \n",
       "NAXIS   =                    3  /                                               \n",
       "NAXIS1  =                   31  /                                               \n",
       "NAXIS2  =                   31  /                                               \n",
       "NAXIS3  =                12600  /                                               \n",
       "EXTEND  =                    T  /                                               \n",
       "BSCALE  =    1.00000000000E+00  /                                               \n",
       "BZERO   =    0.00000000000E+00  /                                               \n",
       "BLANK   =                   -1  /                                               \n",
       "BUNIT   = 'K       '  /                                                         \n",
       "DATE-OBS= '2000-01-01T12:00:00.0'  /                                            \n",
       "TELESCOP= 'NANTEN2 '  /                                                         \n",
       "CRPIX1  =    1.59999992177E+01  /                                               \n",
       "CDELT1  =   -8.33333000000E-03  /                                               \n",
       "CRVAL1  =    0.00000000000E+00  /                                               \n",
       "CTYPE1  = 'RA---CAR'  /                                                         \n",
       "CRPIX2  =    1.59999992177E+01  /                                               \n",
       "CDELT2  =    8.33333000000E-03  /                                               \n",
       "CRVAL2  =    0.00000000000E+00  /                                               \n",
       "CTYPE2  = 'DEC--CAR'  /                                                         \n",
       "CRPIX3  =    6.30050000000E+03  /                                               \n",
       "CDELT3  =    7.93703403196E+01  /                                               \n",
       "CRVAL3  =    0.00000000000E+00  /                                               \n",
       "CTYPE3  = 'VELO-LSR'  /                                                         \n",
       "CELLSCAL= 'CONSTANT'  /                                                         \n",
       "RESTFREQ=    2.30538000000E+05  /                                               \n",
       "SPECSYS = 'LSRK    '  /                                                         \n",
       "OBSERVER= 'amigos  '  /                                                         \n",
       "OBJECT  = 'OriKL_test14 NANTEN2 12CO(J=1-0)'  /                                 \n",
       "EPOCH   =    2.00000000000E+03  /                                               \n",
       "HISTORY CUNIT1  = 'deg     '           /                                        \n",
       "HISTORY CUNIT2  = 'deg     '           /                                        \n",
       "HISTORY CUNIT3  = 'm/s     '           /                                        \n",
       "HISTORY MJD     =                57694 /                                        \n",
       "HISTORY SECOFDAY=        44365.3657450 /                                        \n",
       "HISTORY COORDSYS= 'j2000   '           /                                        \n",
       "HISTORY OBSMODE = 'LINEOTF '           /                                        \n",
       "HISTORY LINE    = '12CO    '           /                                        \n",
       "HISTORY TRANSITI= 'J=2-1   '           /                                        \n",
       "HISTORY FRONTEND= 'nagoyaRX'           /                                        \n",
       "HISTORY SIDEBAND= 'U       '           /                                        \n",
       "HISTORY BACKEND = 'nagoyaDFS'          /                                        \n",
       "HISTORY BANDWID =        1000000000.00 /                                        \n",
       "HISTORY SUBREF  =        0.00000000000 /                                        \n",
       "HISTORY TSYS    =        187.630592516 /                                        \n",
       "HISTORY BEAMEFF =        1.00000000000 /                                        \n",
       "HISTORY : All right reserved. Nagoya University                                 \n",
       "HISTORY : Smoothed with 160 arcsec HPBW Gaussian.                               \n",
       "HISTORY : n2make3dfits.pro                                                      \n",
       "HISTORY : Wed Nov  2 05:44:16 2016(UTC)                                         \n",
       "HISTORY FITS: Miriad fits: Revision 1.33, 2018/12/04 04:02:11 UTC               \n",
       "HISTORY FITS: Executed on: 2019-04-15T11:01:59.0                                \n",
       "HISTORY FITS: Command line inputs follow:                                       \n",
       "HISTORY FITS:   in=test.fits                                                    \n",
       "HISTORY FITS:   out=test.mir                                                    \n",
       "HISTORY FITS:   op=xyin                                                         \n",
       "HISTORY FITS: Miriad fits: fits: Revision 1.33, 2018/12/04 04:02:11 UTC         \n",
       "HISTORY FITS: Executed on: 19APR15:11:03:50.0                                   \n",
       "HISTORY FITS: Command line inputs follow:                                       \n",
       "HISTORY FITS:    in=test.mir                                                    \n",
       "HISTORY FITS:    out=test2.fits                                                 \n",
       "HISTORY FITS:    op=xyout                                                       \n",
       "HISTORY FITS: NOTE: Use options=varwt if loading into Miriad                    \n",
       "ORIGIN  = 'Miriad fits: Revision 1.33, 2018/12/04 04:02:11 UTC'  /              "
      ]
     },
     "execution_count": 74,
     "metadata": {},
     "output_type": "execute_result"
    }
   ],
   "source": [
    "header1"
   ]
  },
  {
   "cell_type": "markdown",
   "metadata": {},
   "source": [
    "### Fitsファイルについて\n",
    "fitsの要素のことをHDUという"
   ]
  },
  {
   "cell_type": "markdown",
   "metadata": {},
   "source": [
    "- SIMPLE\n",
    " - FITSとしての様式を満たしているか？ Tならok\n",
    "- BITPIX\n",
    " - 各データの値何bitで表示しているか\n",
    "- NAXIS\n",
    " - データの軸がいくつあるか？\n",
    " \n",
    " "
   ]
  },
  {
   "cell_type": "markdown",
   "metadata": {},
   "source": [
    "$$\n",
    "    T_{amb}\n",
    "$$\n",
    "は望遠鏡や周囲の大地の温度（つまり常温）\n",
    "$$\n",
    "    T_C = T_{amb}\\frac{P(source)-P(sky)}{P(amb)-P(sky)}\\\\\n",
    "$$"
   ]
  },
  {
   "cell_type": "code",
   "execution_count": 63,
   "metadata": {
    "collapsed": false
   },
   "outputs": [
    {
     "name": "stdout",
     "output_type": "stream",
     "text": [
      "\u001b[31mOriKL_test14_3d_12CO.fits\u001b[m\u001b[m\r\n",
      "README.md\r\n",
      "basic_fits_analy.ipynb\r\n",
      "\u001b[31mmaking_integrated_intensity_map.ipynb\u001b[m\u001b[m\r\n",
      "n20151106084326_12CO21_otfx_OriKL_3dmap.fits\r\n",
      "n2018_12CO_sample.fits\r\n",
      "\u001b[31mpl_fits.py\u001b[m\u001b[m\r\n",
      "\u001b[31mpl_fits.py~\u001b[m\u001b[m\r\n",
      "sekibun.py\r\n",
      "sekibun.py~\r\n",
      "\u001b[31mtest.fits\u001b[m\u001b[m\r\n",
      "\u001b[34mtest.mir\u001b[m\u001b[m\r\n",
      "test2.fits\r\n",
      "解析練習.ipynb\r\n"
     ]
    }
   ],
   "source": [
    "! ls"
   ]
  },
  {
   "cell_type": "code",
   "execution_count": null,
   "metadata": {
    "collapsed": true
   },
   "outputs": [],
   "source": []
  }
 ],
 "metadata": {
  "kernelspec": {
   "display_name": "Python 3",
   "language": "python",
   "name": "python3"
  },
  "language_info": {
   "codemirror_mode": {
    "name": "ipython",
    "version": 3
   },
   "file_extension": ".py",
   "mimetype": "text/x-python",
   "name": "python",
   "nbconvert_exporter": "python",
   "pygments_lexer": "ipython3",
   "version": "3.6.0"
  }
 },
 "nbformat": 4,
 "nbformat_minor": 2
}
