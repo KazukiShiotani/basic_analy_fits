{
 "cells": [
  {
   "cell_type": "markdown",
   "metadata": {},
   "source": [
    "# このnotebookは？\n",
    "頑張ってfitsファイルを理解しようとするためのnotebook"
   ]
  },
  {
   "cell_type": "markdown",
   "metadata": {},
   "source": [
    "とりあえず必要なものをimport する"
   ]
  },
  {
   "cell_type": "code",
   "execution_count": 60,
   "metadata": {
    "collapsed": true
   },
   "outputs": [],
   "source": [
    "file = \"./n2018_12CO_sample.fits\"#fitsファイルのpath"
   ]
  },
  {
   "cell_type": "code",
   "execution_count": 61,
   "metadata": {
    "collapsed": true
   },
   "outputs": [],
   "source": [
    "import astropy.io.fits as fits"
   ]
  },
  {
   "cell_type": "code",
   "execution_count": 62,
   "metadata": {
    "collapsed": false
   },
   "outputs": [],
   "source": [
    "hdu = fits.open(file)\n",
    "data1 = hdu[0].data\n",
    "data2= hdu[1].data\n",
    "header1 = hdu[0].header\n",
    "header2 = hdu[1].header\n",
    "f.close()"
   ]
  },
  {
   "cell_type": "code",
   "execution_count": null,
   "metadata": {
    "collapsed": false
   },
   "outputs": [],
   "source": []
  },
  {
   "cell_type": "markdown",
   "metadata": {},
   "source": [
    "### memo\n",
    "fitsの要素のことをHDUという"
   ]
  },
  {
   "cell_type": "markdown",
   "metadata": {},
   "source": [
    "- SIMPLE\n",
    " - FITSとしての様式を満たしているか？ Tならok\n",
    "- BITPIX\n",
    " - 各データの値何bitで表示しているか\n",
    "- NAXIS\n",
    " - データの軸がいくつあるか？\n",
    " \n",
    " "
   ]
  },
  {
   "cell_type": "markdown",
   "metadata": {},
   "source": [
    "# dataについて\n",
    "分光計 --> fits -->（リダクション） -->3d-fits"
   ]
  },
  {
   "cell_type": "markdown",
   "metadata": {},
   "source": [
    "$$\n",
    "    T_{amb}\n",
    "$$\n",
    "は望遠鏡や周囲の大地の温度（つまり常温）\n",
    "$$\n",
    "    T_C = T_{amb}\\frac{P(source)-P(sky)}{P(amb)-P(sky)}\\\\\n",
    "$$"
   ]
  },
  {
   "cell_type": "code",
   "execution_count": null,
   "metadata": {
    "collapsed": true
   },
   "outputs": [],
   "source": []
  }
 ],
 "metadata": {
  "kernelspec": {
   "display_name": "Python 3",
   "language": "python",
   "name": "python3"
  },
  "language_info": {
   "codemirror_mode": {
    "name": "ipython",
    "version": 3
   },
   "file_extension": ".py",
   "mimetype": "text/x-python",
   "name": "python",
   "nbconvert_exporter": "python",
   "pygments_lexer": "ipython3",
   "version": "3.6.0"
  }
 },
 "nbformat": 4,
 "nbformat_minor": 2
}
